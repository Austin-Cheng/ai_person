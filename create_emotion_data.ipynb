{
 "cells": [
  {
   "cell_type": "code",
   "execution_count": 5,
   "id": "582e3801-0402-43b6-bb00-ce33736a1299",
   "metadata": {},
   "outputs": [],
   "source": [
    "import os\n",
    "import pandas as pd\n",
    "from modelscope.msdatasets import MsDataset"
   ]
  },
  {
   "cell_type": "code",
   "execution_count": 4,
   "id": "541a9ed0-669f-443a-830f-5684768d2f60",
   "metadata": {},
   "outputs": [
    {
     "ename": "NameError",
     "evalue": "name 'data_path' is not defined",
     "output_type": "error",
     "traceback": [
      "\u001b[31m---------------------------------------------------------------------------\u001b[39m",
      "\u001b[31mNameError\u001b[39m                                 Traceback (most recent call last)",
      "\u001b[36mCell\u001b[39m\u001b[36m \u001b[39m\u001b[32mIn[4]\u001b[39m\u001b[32m, line 5\u001b[39m\n\u001b[32m      1\u001b[39m ds =  MsDataset.load(\n\u001b[32m      2\u001b[39m     \u001b[33m'\u001b[39m\u001b[33mzhangzhihao/Simplified_Chinese_Multi-Emotion_Dialogue_Dataset\u001b[39m\u001b[33m'\u001b[39m, \n\u001b[32m      3\u001b[39m     subset_name=\u001b[33m'\u001b[39m\u001b[33mdefault\u001b[39m\u001b[33m'\u001b[39m, \n\u001b[32m      4\u001b[39m     split=\u001b[33m'\u001b[39m\u001b[33mtrain\u001b[39m\u001b[33m'\u001b[39m,\n\u001b[32m----> \u001b[39m\u001b[32m5\u001b[39m     cache_dir=os.path.join(\u001b[43mdata_path\u001b[49m, \u001b[33m'\u001b[39m\u001b[33mimplified_chinese_multi_emotion_dialogue_dataset\u001b[39m\u001b[33m'\u001b[39m)\n\u001b[32m      6\u001b[39m )\n",
      "\u001b[31mNameError\u001b[39m: name 'data_path' is not defined"
     ]
    }
   ],
   "source": [
    "ds =  MsDataset.load(\n",
    "    'zhangzhihao/Simplified_Chinese_Multi-Emotion_Dialogue_Dataset', \n",
    "    subset_name='default', \n",
    "    split='train',\n",
    "    cache_dir=os.path.join(data_path, 'implified_chinese_multi_emotion_dialogue_dataset')\n",
    ")"
   ]
  },
  {
   "cell_type": "code",
   "execution_count": null,
   "id": "4e256e9e-decf-4cea-8776-7c01db26f285",
   "metadata": {},
   "outputs": [],
   "source": [
    "df = ds.to_pandas()"
   ]
  },
  {
   "cell_type": "code",
   "execution_count": null,
   "id": "702d0dd2-a2cb-4b41-9a92-5a715961ac93",
   "metadata": {},
   "outputs": [],
   "source": [
    "df.head()"
   ]
  },
  {
   "cell_type": "code",
   "execution_count": null,
   "id": "e1d6ca82-795d-4b97-ad4c-7e7bc7a163d6",
   "metadata": {},
   "outputs": [],
   "source": [
    "df.to_excel(\n",
    "    \"imdb_train_data.xlsx\",\n",
    "    engine=\"openpyxl\",\n",
    "    index=False\n",
    ")"
   ]
  },
  {
   "cell_type": "code",
   "execution_count": null,
   "id": "5c224f62-65a7-4338-99be-45654af3bb73",
   "metadata": {},
   "outputs": [],
   "source": []
  }
 ],
 "metadata": {
  "kernelspec": {
   "display_name": "Python 3 (ipykernel)",
   "language": "python",
   "name": "python3"
  },
  "language_info": {
   "codemirror_mode": {
    "name": "ipython",
    "version": 3
   },
   "file_extension": ".py",
   "mimetype": "text/x-python",
   "name": "python",
   "nbconvert_exporter": "python",
   "pygments_lexer": "ipython3",
   "version": "3.12.3"
  }
 },
 "nbformat": 4,
 "nbformat_minor": 5
}
