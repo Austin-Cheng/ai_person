{
 "cells": [
  {
   "cell_type": "code",
   "execution_count": 46,
   "id": "f4d9ea69-76fe-430a-a0dc-ab214958e7c8",
   "metadata": {},
   "outputs": [],
   "source": [
    "bert_model_path = 'C:\\\\Users\\\\12390\\\\Documents\\\\projects\\\\yolo\\\\data\\\\action_model\\\\checkpoint-318'\n",
    "onnx_model_path = 'C:\\\\Users\\\\12390\\\\Documents\\\\projects\\\\ai_person\\\\data\\\\bert_action_0908.onnx'"
   ]
  },
  {
   "cell_type": "markdown",
   "id": "d1f32bb2-eec3-45a9-9a73-a4e2789679ba",
   "metadata": {},
   "source": [
    "### 将bert模型导入onnx格式，可以减轻模型大小，供边缘侧调用"
   ]
  },
  {
   "cell_type": "code",
   "execution_count": 47,
   "id": "8f26e66a-1d14-4003-8ff5-3d9fb1a6b411",
   "metadata": {},
   "outputs": [],
   "source": [
    "import os\n",
    "import torch\n",
    "from transformers import (\n",
    "    BertTokenizer,\n",
    "    BertForSequenceClassification,\n",
    ")"
   ]
  },
  {
   "cell_type": "code",
   "execution_count": 48,
   "id": "b6b7080a-81e9-45b7-8bf4-93bf3fac1edf",
   "metadata": {},
   "outputs": [],
   "source": [
    "tokenizer = BertTokenizer.from_pretrained(bert_model_path)\n",
    "model = BertForSequenceClassification.from_pretrained(bert_model_path)"
   ]
  },
  {
   "cell_type": "code",
   "execution_count": 49,
   "id": "68b45c31-39ab-45ed-bef7-b5feefc079ae",
   "metadata": {},
   "outputs": [],
   "source": [
    "inputs = tokenizer(\n",
    "    \"这部电影太棒了！特效非常震撼！\",\n",
    "    truncation=True,\n",
    "    max_length=128,\n",
    "    padding=\"max_length\",\n",
    "    return_tensors=\"pt\"\n",
    ").to(model.device)"
   ]
  },
  {
   "cell_type": "code",
   "execution_count": 50,
   "id": "9997980b-576e-47c7-aaf3-100f77f40b0f",
   "metadata": {},
   "outputs": [],
   "source": [
    "torch.onnx.export(\n",
    "    model,                         \n",
    "    tuple(inputs.values()),       \n",
    "    onnx_model_path,       \n",
    "    export_params=True,              \n",
    "    opset_version=14,            \n",
    "    do_constant_folding=True,       \n",
    "    input_names=['input_ids',      \n",
    "                 'attention_mask',\n",
    "                 'token_type_ids'],\n",
    "    output_names=['logits'],\n",
    "    dynamic_axes={      \n",
    "        'input_ids': {0: 'batch_size', 1: 'seq_length'},\n",
    "        'attention_mask': {0: 'batch_size', 1: 'seq_length'},\n",
    "        'token_type_ids': {0: 'batch_size', 1: 'seq_length'}\n",
    "    }\n",
    ")"
   ]
  },
  {
   "cell_type": "markdown",
   "id": "14652504-3805-4798-9f12-fe686dfc832c",
   "metadata": {},
   "source": [
    "### 加载并使用onnx模型"
   ]
  },
  {
   "cell_type": "code",
   "execution_count": 52,
   "id": "f2e57352-9c40-4bf3-a516-bf6f54ccc262",
   "metadata": {},
   "outputs": [],
   "source": [
    "import onnxruntime as ort\n",
    "import numpy as np\n",
    "from transformers import BertTokenizer\n",
    "import time"
   ]
  },
  {
   "cell_type": "code",
   "execution_count": 19,
   "id": "acc0b511-96b1-486b-b8f3-0cbb97ae5a97",
   "metadata": {},
   "outputs": [],
   "source": [
    "label2id = {\n",
    "    '点头': 0,\n",
    "    '挥手': 1,\n",
    "    '其他': 2,\n",
    "    '思考': 3,\n",
    "    '摇头': 4,\n",
    "}\n",
    "id2label = {v: k for k, v in label2id.items()}"
   ]
  },
  {
   "cell_type": "code",
   "execution_count": 25,
   "id": "275a229d-2e49-4ec7-a88d-15c20e333491",
   "metadata": {},
   "outputs": [],
   "source": [
    "ort_session = ort.InferenceSession(onnx_model_path)"
   ]
  },
  {
   "cell_type": "code",
   "execution_count": 26,
   "id": "10c283c3-8089-4aa8-9f56-5329d39618c9",
   "metadata": {},
   "outputs": [],
   "source": [
    "tokenizer = BertTokenizer.from_pretrained(bert_model_path)"
   ]
  },
  {
   "cell_type": "code",
   "execution_count": 65,
   "id": "76699799-80b3-4dd7-9b8f-3a42e558bc5c",
   "metadata": {},
   "outputs": [],
   "source": [
    "# query = \"抱歉，都怪我没有说清楚\"\n",
    "# query = \"你好啊，很高兴见到你\"\n",
    "# query = \"再见，很高兴能帮到你\"\n",
    "# query = \"好啊好啊，就这么说定了\"\n",
    "query = \"我也很高兴再次见到你。\""
   ]
  },
  {
   "cell_type": "code",
   "execution_count": 67,
   "id": "2d73dd0a-c797-4e71-8d2e-dcd369938b2a",
   "metadata": {},
   "outputs": [
    {
     "name": "stdout",
     "output_type": "stream",
     "text": [
      "预测类别: 0, 点头\n",
      "各类别概率: [0.71585363 0.26741728 0.00907105 0.00435702 0.00330099]\n",
      "cost time: 0.4465160369873047\n"
     ]
    }
   ],
   "source": [
    "st = time.time()\n",
    "\n",
    "inputs = tokenizer(\n",
    "    query,\n",
    "    truncation=True,\n",
    "    max_length=128,\n",
    "    padding=\"max_length\",\n",
    "    return_tensors=\"pt\"\n",
    ").to('cpu')\n",
    "\n",
    "inputs_onnx = {\n",
    "    'input_ids': inputs['input_ids'].numpy(),\n",
    "    'attention_mask': inputs['attention_mask'].numpy(),\n",
    "    'token_type_ids': inputs['token_type_ids'].numpy()\n",
    "}\n",
    "outputs = ort_session.run(None, inputs_onnx)\n",
    "logits = outputs[0]\n",
    "\n",
    "probs = np.exp(logits) / np.sum(np.exp(logits), axis=1, keepdims=True)\n",
    "predicted_class = np.argmax(probs, axis=1)\n",
    "\n",
    "label = id2label[predicted_class[0]]\n",
    "\n",
    "print(f\"预测类别: {predicted_class[0]}, {label}\")\n",
    "print(f\"各类别概率: {probs[0]}\")\n",
    "print(f\"cost time: {time.time() - st}\")"
   ]
  },
  {
   "cell_type": "markdown",
   "id": "1c57e8ba-44b4-4ce6-996a-021f212aba24",
   "metadata": {},
   "source": [
    "## 结论"
   ]
  },
  {
   "cell_type": "markdown",
   "id": "1701a8b3-36ed-4355-86fa-601af7ddb5c8",
   "metadata": {},
   "source": [
    "1. 模型的确变小了，原始bert模型大概1.4G，转为onnx后，仅0.4G\n",
    "2. 但基于onnx模型进行预测，时间上并没有特别大的优势，一次预测大概耗时0.5s，在cpu环境下"
   ]
  },
  {
   "cell_type": "code",
   "execution_count": null,
   "id": "cde9af83-0aba-482b-b204-0b84c1e78c4c",
   "metadata": {},
   "outputs": [],
   "source": []
  }
 ],
 "metadata": {
  "kernelspec": {
   "display_name": "Python 3 (ipykernel)",
   "language": "python",
   "name": "python3"
  },
  "language_info": {
   "codemirror_mode": {
    "name": "ipython",
    "version": 3
   },
   "file_extension": ".py",
   "mimetype": "text/x-python",
   "name": "python",
   "nbconvert_exporter": "python",
   "pygments_lexer": "ipython3",
   "version": "3.12.3"
  }
 },
 "nbformat": 4,
 "nbformat_minor": 5
}
