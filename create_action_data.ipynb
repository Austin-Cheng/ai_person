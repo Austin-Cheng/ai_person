{
 "cells": [
  {
   "cell_type": "code",
   "execution_count": 1,
   "id": "8283e299-2cda-412b-abdb-6831244aafda",
   "metadata": {},
   "outputs": [],
   "source": [
    "import os\n",
    "from tqdm import tqdm\n",
    "\n",
    "import pandas as pd\n",
    "from langchain.chat_models import init_chat_model"
   ]
  },
  {
   "cell_type": "code",
   "execution_count": 2,
   "id": "ee4b3193-7ca2-4551-91bf-7e8f33f1bc34",
   "metadata": {},
   "outputs": [],
   "source": [
    "doubao = init_chat_model(\n",
    "    model=\"ep-20250110183136-8w79l\",\n",
    "    model_provider=\"openai\",\n",
    "    api_key=\"341824e3-e5b4-429d-a322-e2105f4774b6\",\n",
    "    base_url=\"https://ark.cn-beijing.volces.com/api/v3\"\n",
    ")"
   ]
  },
  {
   "cell_type": "code",
   "execution_count": 7,
   "id": "6a6dfb32-2073-4060-bfa2-d9470b768a8d",
   "metadata": {},
   "outputs": [],
   "source": [
    "text = '对不起，我来晚了。'\n",
    "label = doubao.invoke(f\"\"\"\n",
    "    # 人设\n",
    "    你是一个文本标注专家。为用户的问题打上合适的动作标签，表示说这句话时适合的肢体动作。动作标签有：\n",
    "    - 点头\n",
    "    - 摇头\n",
    "    - 挥手\n",
    "    - 思考\n",
    "    - 其他\n",
    "    # 限制\n",
    "    - 输出动作标签即可，不要给出任何解释\n",
    "    # 用户输入\n",
    "    {text}\n",
    "\"\"\").content"
   ]
  },
  {
   "cell_type": "code",
   "execution_count": 8,
   "id": "0ceca379-9520-48be-84a0-aee5a18b2c9f",
   "metadata": {},
   "outputs": [
    {
     "data": {
      "text/plain": [
       "'其他'"
      ]
     },
     "execution_count": 8,
     "metadata": {},
     "output_type": "execute_result"
    }
   ],
   "source": [
    "label"
   ]
  },
  {
   "cell_type": "code",
   "execution_count": null,
   "id": "5a19d791-f886-479b-b81b-ae9ba3d731a5",
   "metadata": {},
   "outputs": [],
   "source": []
  }
 ],
 "metadata": {
  "kernelspec": {
   "display_name": "Python 3 (ipykernel)",
   "language": "python",
   "name": "python3"
  },
  "language_info": {
   "codemirror_mode": {
    "name": "ipython",
    "version": 3
   },
   "file_extension": ".py",
   "mimetype": "text/x-python",
   "name": "python",
   "nbconvert_exporter": "python",
   "pygments_lexer": "ipython3",
   "version": "3.12.3"
  }
 },
 "nbformat": 4,
 "nbformat_minor": 5
}
