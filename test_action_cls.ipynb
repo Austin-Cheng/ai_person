{
 "cells": [
  {
   "cell_type": "code",
   "execution_count": 4,
   "id": "147d8710-633e-4202-92b9-115bf4e64b7e",
   "metadata": {},
   "outputs": [],
   "source": [
    "data_path = 'C:\\\\Users\\\\12390\\\\Documents\\\\projects\\\\yolo\\\\data\\\\actions.csv'"
   ]
  },
  {
   "cell_type": "markdown",
   "id": "84b1fdeb-e509-4711-b86d-c70b6115de71",
   "metadata": {},
   "source": [
    "# 一、加载数据"
   ]
  },
  {
   "cell_type": "code",
   "execution_count": 3,
   "id": "d68641a2-c00e-4798-94e3-41ad5c1dc6e8",
   "metadata": {},
   "outputs": [],
   "source": [
    "import pandas as pd"
   ]
  },
  {
   "cell_type": "code",
   "execution_count": 10,
   "id": "7e9462d4-9775-46ed-81e0-6e9be527a6f6",
   "metadata": {},
   "outputs": [],
   "source": [
    "df = pd.read_csv(data_path)\n",
    "df['action'] = df['action'].str.strip()"
   ]
  },
  {
   "cell_type": "markdown",
   "id": "e7c93db3-c1d1-4f3b-984b-8fa204a5decf",
   "metadata": {},
   "source": [
    "## 1.1 观察"
   ]
  },
  {
   "cell_type": "code",
   "execution_count": 11,
   "id": "215cef74-e788-4462-9803-9133f897c92b",
   "metadata": {},
   "outputs": [
    {
     "data": {
      "text/html": [
       "<div>\n",
       "<style scoped>\n",
       "    .dataframe tbody tr th:only-of-type {\n",
       "        vertical-align: middle;\n",
       "    }\n",
       "\n",
       "    .dataframe tbody tr th {\n",
       "        vertical-align: top;\n",
       "    }\n",
       "\n",
       "    .dataframe thead th {\n",
       "        text-align: right;\n",
       "    }\n",
       "</style>\n",
       "<table border=\"1\" class=\"dataframe\">\n",
       "  <thead>\n",
       "    <tr style=\"text-align: right;\">\n",
       "      <th></th>\n",
       "      <th>text</th>\n",
       "      <th>action</th>\n",
       "    </tr>\n",
       "  </thead>\n",
       "  <tbody>\n",
       "    <tr>\n",
       "      <th>0</th>\n",
       "      <td>你想不想去吃午饭？</td>\n",
       "      <td>其他</td>\n",
       "    </tr>\n",
       "    <tr>\n",
       "      <th>1</th>\n",
       "      <td>哦！我被选中了！</td>\n",
       "      <td>其他</td>\n",
       "    </tr>\n",
       "    <tr>\n",
       "      <th>2</th>\n",
       "      <td>我几天身体好像有点不太舒服，肚子好痛。</td>\n",
       "      <td>其他</td>\n",
       "    </tr>\n",
       "    <tr>\n",
       "      <th>3</th>\n",
       "      <td>我的小组成员一个都没干活！真后悔跟他一起组队。</td>\n",
       "      <td>摇头</td>\n",
       "    </tr>\n",
       "    <tr>\n",
       "      <th>4</th>\n",
       "      <td>他们是不是吵架了？不会打起来吧？</td>\n",
       "      <td>思考</td>\n",
       "    </tr>\n",
       "  </tbody>\n",
       "</table>\n",
       "</div>"
      ],
      "text/plain": [
       "                      text action\n",
       "0                你想不想去吃午饭？     其他\n",
       "1                 哦！我被选中了！     其他\n",
       "2      我几天身体好像有点不太舒服，肚子好痛。     其他\n",
       "3  我的小组成员一个都没干活！真后悔跟他一起组队。     摇头\n",
       "4         他们是不是吵架了？不会打起来吧？     思考"
      ]
     },
     "execution_count": 11,
     "metadata": {},
     "output_type": "execute_result"
    }
   ],
   "source": [
    "df.head()"
   ]
  },
  {
   "cell_type": "code",
   "execution_count": 12,
   "id": "feec7244-e2cc-4a99-bcc4-2310b55dc44d",
   "metadata": {},
   "outputs": [
    {
     "data": {
      "text/plain": [
       "(4526, 2)"
      ]
     },
     "execution_count": 12,
     "metadata": {},
     "output_type": "execute_result"
    }
   ],
   "source": [
    "df.shape"
   ]
  },
  {
   "cell_type": "code",
   "execution_count": 13,
   "id": "18431a3e-2da9-4425-8785-89b30efc9308",
   "metadata": {},
   "outputs": [
    {
     "data": {
      "text/plain": [
       "action\n",
       "其他    2790\n",
       "摇头     571\n",
       "思考     498\n",
       "挥手     353\n",
       "点头     314\n",
       "Name: count, dtype: int64"
      ]
     },
     "execution_count": 13,
     "metadata": {},
     "output_type": "execute_result"
    }
   ],
   "source": [
    "df['action'].value_counts()"
   ]
  },
  {
   "cell_type": "markdown",
   "id": "85cdb173-5926-4996-85de-83bccfc8309b",
   "metadata": {},
   "source": [
    "## 1.2 采样"
   ]
  },
  {
   "cell_type": "code",
   "execution_count": 15,
   "id": "703550af-84d0-44ac-b109-d8bd03bee333",
   "metadata": {},
   "outputs": [],
   "source": [
    "df_ac = df[~df['action'].isin(['其他'])]\n",
    "df_b_sample = df[df['action'] == '其他'].sample(n=600, random_state=42)\n",
    "df = pd.concat([df_ac, df_b_sample], ignore_index=True)"
   ]
  },
  {
   "cell_type": "code",
   "execution_count": 16,
   "id": "b39ecf30-7e27-4e6a-acc8-2a424a7723bd",
   "metadata": {},
   "outputs": [
    {
     "data": {
      "text/plain": [
       "(2336, 2)"
      ]
     },
     "execution_count": 16,
     "metadata": {},
     "output_type": "execute_result"
    }
   ],
   "source": [
    "df.shape"
   ]
  },
  {
   "cell_type": "code",
   "execution_count": 17,
   "id": "d25cece8-4a4c-4cc6-a5e8-eb4014394f46",
   "metadata": {},
   "outputs": [
    {
     "data": {
      "text/plain": [
       "action\n",
       "其他    600\n",
       "摇头    571\n",
       "思考    498\n",
       "挥手    353\n",
       "点头    314\n",
       "Name: count, dtype: int64"
      ]
     },
     "execution_count": 17,
     "metadata": {},
     "output_type": "execute_result"
    }
   ],
   "source": [
    "df['action'].value_counts()"
   ]
  },
  {
   "cell_type": "markdown",
   "id": "40c6c7b4-4531-4c9b-99d3-ef1c10641551",
   "metadata": {},
   "source": [
    "## 1.3 划分训练集、验证机、测试集"
   ]
  },
  {
   "cell_type": "code",
   "execution_count": 18,
   "id": "b2e1199a-e998-4cef-92ea-430947e187f6",
   "metadata": {},
   "outputs": [
    {
     "name": "stderr",
     "output_type": "stream",
     "text": [
      "C:\\Users\\12390\\Documents\\projects\\yolo\\.venv\\Lib\\site-packages\\tqdm\\auto.py:21: TqdmWarning: IProgress not found. Please update jupyter and ipywidgets. See https://ipywidgets.readthedocs.io/en/stable/user_install.html\n",
      "  from .autonotebook import tqdm as notebook_tqdm\n"
     ]
    }
   ],
   "source": [
    "from datasets import Dataset, DatasetDict\n",
    "from sklearn.model_selection import train_test_split"
   ]
  },
  {
   "cell_type": "code",
   "execution_count": 22,
   "id": "5a0a1021-9a58-48ca-987a-73baef304de2",
   "metadata": {},
   "outputs": [],
   "source": [
    "train_df, test_df = train_test_split(\n",
    "    df,\n",
    "    test_size=0.1,\n",
    "    random_state=42,\n",
    "    stratify=df['action']\n",
    ")\n",
    "train_df, validation_df = train_test_split(\n",
    "    train_df,\n",
    "    test_size=0.1,\n",
    "    random_state=21,\n",
    "    stratify=train_df['action']\n",
    ")"
   ]
  },
  {
   "cell_type": "code",
   "execution_count": 23,
   "id": "d2ee5907-554a-419c-a4de-2af8339e45cb",
   "metadata": {},
   "outputs": [
    {
     "data": {
      "text/plain": [
       "((1891, 2), (234, 2), (211, 2))"
      ]
     },
     "execution_count": 23,
     "metadata": {},
     "output_type": "execute_result"
    }
   ],
   "source": [
    "train_df.shape, test_df.shape, validation_df.shape"
   ]
  },
  {
   "cell_type": "markdown",
   "id": "280d525b-1e72-4693-a641-e4a961fb862c",
   "metadata": {},
   "source": [
    "## 1.4 转为dataset格式"
   ]
  },
  {
   "cell_type": "code",
   "execution_count": 24,
   "id": "0f42fbe3-dbe2-41eb-bba9-a6c4a3bc39d9",
   "metadata": {},
   "outputs": [],
   "source": [
    "train_dataset = Dataset.from_pandas(train_df)\n",
    "test_dataset = Dataset.from_pandas(test_df)\n",
    "validation_dataset = Dataset.from_pandas(validation_df)\n",
    "\n",
    "dataset_dict = DatasetDict({\n",
    "    'train': train_dataset,\n",
    "    'test': test_dataset,\n",
    "    'validation': validation_dataset\n",
    "})"
   ]
  },
  {
   "cell_type": "code",
   "execution_count": 25,
   "id": "d13b90ad-0b20-4feb-a9b7-547fc8e70179",
   "metadata": {},
   "outputs": [
    {
     "data": {
      "text/plain": [
       "DatasetDict({\n",
       "    train: Dataset({\n",
       "        features: ['text', 'action', '__index_level_0__'],\n",
       "        num_rows: 1891\n",
       "    })\n",
       "    test: Dataset({\n",
       "        features: ['text', 'action', '__index_level_0__'],\n",
       "        num_rows: 234\n",
       "    })\n",
       "    validation: Dataset({\n",
       "        features: ['text', 'action', '__index_level_0__'],\n",
       "        num_rows: 211\n",
       "    })\n",
       "})"
      ]
     },
     "execution_count": 25,
     "metadata": {},
     "output_type": "execute_result"
    }
   ],
   "source": [
    "dataset_dict"
   ]
  },
  {
   "cell_type": "markdown",
   "id": "1547ff37-45ea-4616-b608-92ffe405d94f",
   "metadata": {},
   "source": [
    "## 1.5 标签映射"
   ]
  },
  {
   "cell_type": "code",
   "execution_count": 26,
   "id": "28521e56-850f-467b-b559-2ffc0fe8c3d0",
   "metadata": {},
   "outputs": [],
   "source": [
    "label2id = {\n",
    "    '点头': 0,\n",
    "    '挥手': 1,\n",
    "    '其他': 2,\n",
    "    '思考': 3,\n",
    "    '摇头': 4,\n",
    "}\n",
    "id2label = {v: k for k, v in label2id.items()}"
   ]
  },
  {
   "cell_type": "code",
   "execution_count": 27,
   "id": "df4984e0-031a-4ab5-aba5-e7c8f885c271",
   "metadata": {},
   "outputs": [
    {
     "name": "stderr",
     "output_type": "stream",
     "text": [
      "Map: 100%|██████████████████████████████████████████████████████████████████████████████████████████| 1891/1891 [00:00<00:00, 235745.72 examples/s]\n",
      "Map: 100%|█████████████████████████████████████████████████████████████████████████████████████████████| 234/234 [00:00<00:00, 78254.44 examples/s]\n",
      "Map: 100%|█████████████████████████████████████████████████████████████████████████████████████████████| 211/211 [00:00<00:00, 41696.03 examples/s]\n"
     ]
    }
   ],
   "source": [
    "def convert_labels(examples):\n",
    "    examples[\"labels\"] = [label2id[label] for label in examples[\"action\"]]\n",
    "    return examples\n",
    "\n",
    "\n",
    "dataset = dataset_dict.map(\n",
    "    convert_labels,\n",
    "    batched=True,\n",
    "    remove_columns=[\"action\"]\n",
    ")"
   ]
  },
  {
   "cell_type": "code",
   "execution_count": 28,
   "id": "2139aae3-3117-4196-8e71-47604ed9e35a",
   "metadata": {},
   "outputs": [
    {
     "data": {
      "text/plain": [
       "DatasetDict({\n",
       "    train: Dataset({\n",
       "        features: ['text', '__index_level_0__', 'labels'],\n",
       "        num_rows: 1891\n",
       "    })\n",
       "    test: Dataset({\n",
       "        features: ['text', '__index_level_0__', 'labels'],\n",
       "        num_rows: 234\n",
       "    })\n",
       "    validation: Dataset({\n",
       "        features: ['text', '__index_level_0__', 'labels'],\n",
       "        num_rows: 211\n",
       "    })\n",
       "})"
      ]
     },
     "execution_count": 28,
     "metadata": {},
     "output_type": "execute_result"
    }
   ],
   "source": [
    "dataset"
   ]
  },
  {
   "cell_type": "code",
   "execution_count": 29,
   "id": "f74f86f7-0b61-402f-910b-9320b3686435",
   "metadata": {},
   "outputs": [
    {
     "data": {
      "text/plain": [
       "{'text': '你怎么这么烦，真是无止境，让我受不了！', '__index_level_0__': 772, 'labels': 4}"
      ]
     },
     "execution_count": 29,
     "metadata": {},
     "output_type": "execute_result"
    }
   ],
   "source": [
    "dataset['train'][0]"
   ]
  },
  {
   "cell_type": "markdown",
   "id": "4d1bb506-ede6-4eea-a640-e71e43d70d49",
   "metadata": {},
   "source": [
    "# 一、训练"
   ]
  },
  {
   "cell_type": "code",
   "execution_count": 37,
   "id": "5ca0b99b-e7f0-4fc4-9f46-2745a3ecab5e",
   "metadata": {},
   "outputs": [],
   "source": [
    "model_path = 'C:\\\\Users\\\\12390\\\\Documents\\\\projects\\\\yolo\\\\data\\\\bert-base-chinese'\n",
    "num_labels = 5"
   ]
  },
  {
   "cell_type": "code",
   "execution_count": 32,
   "id": "4500c867-0032-4a26-8b46-291bf35866e2",
   "metadata": {},
   "outputs": [],
   "source": [
    "from sklearn.metrics import accuracy_score, f1_score, precision_recall_fscore_support\n",
    "from transformers import (\n",
    "    BertTokenizer,\n",
    "    BertForSequenceClassification,\n",
    "    Trainer,\n",
    "    TrainingArguments,\n",
    "    EarlyStoppingCallback,\n",
    "    DataCollatorWithPadding\n",
    ")"
   ]
  },
  {
   "cell_type": "markdown",
   "id": "cf74e3f5-b102-4383-a32b-a01edaeee96a",
   "metadata": {},
   "source": [
    "## 1.1 加载模型"
   ]
  },
  {
   "cell_type": "code",
   "execution_count": 38,
   "id": "dec5f439-b511-463c-a343-eb133025b99f",
   "metadata": {},
   "outputs": [
    {
     "name": "stderr",
     "output_type": "stream",
     "text": [
      "Some weights of BertForSequenceClassification were not initialized from the model checkpoint at C:\\Users\\12390\\Documents\\projects\\yolo\\data\\bert-base-chinese and are newly initialized: ['classifier.bias', 'classifier.weight']\n",
      "You should probably TRAIN this model on a down-stream task to be able to use it for predictions and inference.\n"
     ]
    }
   ],
   "source": [
    "tokenizer = BertTokenizer.from_pretrained(model_path)\n",
    "\n",
    "model = BertForSequenceClassification.from_pretrained(\n",
    "    model_path,\n",
    "    num_labels=num_labels\n",
    ")"
   ]
  },
  {
   "cell_type": "markdown",
   "id": "1854f87a-2b1b-40c2-a4ee-60f9437552bb",
   "metadata": {},
   "source": [
    "## 1.2 对数据进行tokenize"
   ]
  },
  {
   "cell_type": "code",
   "execution_count": 34,
   "id": "9994b1ca-b69e-4866-a720-9b500ebd8f45",
   "metadata": {},
   "outputs": [
    {
     "name": "stderr",
     "output_type": "stream",
     "text": [
      "Map: 100%|████████████████████████████████████████████████████████████████████████████████████████████| 1891/1891 [00:00<00:00, 4533.73 examples/s]\n",
      "Map: 100%|██████████████████████████████████████████████████████████████████████████████████████████████| 234/234 [00:00<00:00, 3961.14 examples/s]\n",
      "Map: 100%|██████████████████████████████████████████████████████████████████████████████████████████████| 211/211 [00:00<00:00, 5042.24 examples/s]\n"
     ]
    }
   ],
   "source": [
    "def preprocess_function(examples):\n",
    "    return tokenizer(\n",
    "        examples[\"text\"],\n",
    "        truncation=True,\n",
    "        max_length=128,\n",
    "        padding=\"max_length\",\n",
    "        return_overflowing_tokens=False\n",
    "    )\n",
    "\n",
    "tokenized_dataset = dataset.map(preprocess_function, batched=True, batch_size=16)"
   ]
  },
  {
   "cell_type": "code",
   "execution_count": 35,
   "id": "8c2ab1b6-8661-4ead-9a22-2bd5e448dee3",
   "metadata": {},
   "outputs": [
    {
     "data": {
      "text/plain": [
       "DatasetDict({\n",
       "    train: Dataset({\n",
       "        features: ['text', '__index_level_0__', 'labels', 'input_ids', 'token_type_ids', 'attention_mask'],\n",
       "        num_rows: 1891\n",
       "    })\n",
       "    test: Dataset({\n",
       "        features: ['text', '__index_level_0__', 'labels', 'input_ids', 'token_type_ids', 'attention_mask'],\n",
       "        num_rows: 234\n",
       "    })\n",
       "    validation: Dataset({\n",
       "        features: ['text', '__index_level_0__', 'labels', 'input_ids', 'token_type_ids', 'attention_mask'],\n",
       "        num_rows: 211\n",
       "    })\n",
       "})"
      ]
     },
     "execution_count": 35,
     "metadata": {},
     "output_type": "execute_result"
    }
   ],
   "source": [
    "tokenized_dataset"
   ]
  },
  {
   "cell_type": "code",
   "execution_count": 36,
   "id": "ea05f94d-bbb8-47a8-b2fe-067016f02c9f",
   "metadata": {},
   "outputs": [],
   "source": [
    "tokenized_dataset = tokenized_dataset.remove_columns([\"text\"])\n",
    "tokenized_dataset.set_format(\"torch\", columns=[\"input_ids\", \"attention_mask\", \"labels\"])"
   ]
  },
  {
   "cell_type": "code",
   "execution_count": 39,
   "id": "48111d7f-f7e5-4507-b41f-fb2f77a24932",
   "metadata": {},
   "outputs": [],
   "source": [
    "data_collator = DataCollatorWithPadding(tokenizer=tokenizer)"
   ]
  },
  {
   "cell_type": "markdown",
   "id": "c2f9c188-6371-4dc1-a74a-15706d5c4b8e",
   "metadata": {},
   "source": [
    "## 1.3 训练"
   ]
  },
  {
   "cell_type": "code",
   "execution_count": 41,
   "id": "d22d3f57-a0a8-4558-8858-009727890ef6",
   "metadata": {},
   "outputs": [],
   "source": [
    "trained_model_path = 'C:\\\\Users\\\\12390\\\\Documents\\\\projects\\\\yolo\\\\data\\\\action_model'"
   ]
  },
  {
   "cell_type": "code",
   "execution_count": 43,
   "id": "2e5253b3-3b53-4585-b970-fb970bbad2d4",
   "metadata": {},
   "outputs": [],
   "source": [
    "import os"
   ]
  },
  {
   "cell_type": "code",
   "execution_count": 46,
   "id": "fb2fd7e3-8c19-4383-856a-bb44ee67994c",
   "metadata": {},
   "outputs": [],
   "source": [
    "def compute_metrics(eval_pred):\n",
    "    predictions, labels = eval_pred\n",
    "    predictions = predictions.argmax(axis=1)\n",
    "    accuracy = accuracy_score(labels, predictions)\n",
    "    precision, recall, f1, _ = precision_recall_fscore_support(labels, predictions, average=\"weighted\")\n",
    "    return {\n",
    "        \"accuracy\": accuracy,\n",
    "        \"precision\": precision,\n",
    "        \"recall\": recall,\n",
    "        \"f1\": f1\n",
    "    }"
   ]
  },
  {
   "cell_type": "code",
   "execution_count": 47,
   "id": "d0d7a2fc-57ce-4e8a-8f9d-cb7cb73edf8f",
   "metadata": {},
   "outputs": [],
   "source": [
    "training_args = TrainingArguments(\n",
    "    output_dir=trained_model_path, \n",
    "    overwrite_output_dir=True,\n",
    "    num_train_epochs=5,\n",
    "    per_device_train_batch_size=16,\n",
    "    per_device_eval_batch_size=16,\n",
    "    eval_strategy=\"epoch\",\n",
    "    save_strategy=\"epoch\",\n",
    "    logging_dir=os.path.join(data_path, \"logs\"),\n",
    "    logging_steps=100,\n",
    "    learning_rate=3e-5,\n",
    "    lr_scheduler_type=\"linear\",\n",
    "    warmup_ratio=0.1, \n",
    "    weight_decay=0.01,\n",
    "    load_best_model_at_end=True,\n",
    ")"
   ]
  },
  {
   "cell_type": "code",
   "execution_count": null,
   "id": "0eec71c5-b5de-4c29-8d61-091c086b8367",
   "metadata": {},
   "outputs": [],
   "source": [
    "trainer = Trainer(\n",
    "    model=model,\n",
    "    args=training_args,\n",
    "    train_dataset=tokenized_dataset[\"train\"],\n",
    "    eval_dataset=tokenized_dataset[\"validation\"],\n",
    "    tokenizer=tokenizer,\n",
    "    data_collator=data_collator,\n",
    "    compute_metrics=compute_metrics,\n",
    ")\n",
    "\n",
    "trainer.train()"
   ]
  },
  {
   "cell_type": "markdown",
   "id": "fe049323-b7fa-4c4c-a490-1ad680226516",
   "metadata": {},
   "source": [
    "# 二、评估"
   ]
  },
  {
   "cell_type": "code",
   "execution_count": null,
   "id": "ea26d8c9-347a-4792-88c2-bffb96d3effd",
   "metadata": {},
   "outputs": [],
   "source": [
    "test_results = trainer.evaluate(tokenized_dataset[\"test\"])\n",
    "print(\"测试集评估结果：\", test_results)"
   ]
  },
  {
   "cell_type": "markdown",
   "id": "906140c1-76f2-41ee-aeef-efd5bab6aa4f",
   "metadata": {},
   "source": [
    "# 三、加载"
   ]
  },
  {
   "cell_type": "code",
   "execution_count": null,
   "id": "ee155f83-81cf-49b4-80ff-64171e5d4bea",
   "metadata": {},
   "outputs": [],
   "source": [
    "tokenizer = BertTokenizer.from_pretrained(os.path.join(data_path, \"action_model/checkpoint-318\"))\n",
    "model = BertForSequenceClassification.from_pretrained(os.path.join(data_path, \"action_model/checkpoint-318\"))"
   ]
  },
  {
   "cell_type": "markdown",
   "id": "0bb4cb7d-0b98-46e3-b7c7-bee483a894b8",
   "metadata": {},
   "source": [
    "# 四、预测"
   ]
  },
  {
   "cell_type": "code",
   "execution_count": null,
   "id": "996250f1-9e9b-4fd0-ae55-76b24e4ca70e",
   "metadata": {},
   "outputs": [],
   "source": [
    "import torch"
   ]
  },
  {
   "cell_type": "code",
   "execution_count": null,
   "id": "9324e55a-25fc-4557-95c2-c03b6047d89a",
   "metadata": {},
   "outputs": [],
   "source": [
    "def predict_sentiment(text):\n",
    "    inputs = tokenizer(\n",
    "        text,\n",
    "        truncation=True,\n",
    "        max_length=128,\n",
    "        padding=\"max_length\",\n",
    "        return_tensors=\"pt\"\n",
    "    ).to(model.device)\n",
    "\n",
    "\n",
    "    model.eval()\n",
    "    with torch.no_grad():\n",
    "        outputs = model(**inputs)\n",
    "    predictions = outputs.logits.argmax(dim=1).item()\n",
    "    return predictions"
   ]
  },
  {
   "cell_type": "code",
   "execution_count": null,
   "id": "44978211-20a6-4014-a7d7-eb1fe13aecf1",
   "metadata": {},
   "outputs": [],
   "source": [
    "\n",
    "# sample_text = \"这部电影太棒了！特效非常震撼！\"\n",
    "# sample_text = \"我不太明白你的意思，你能再说一遍\"\n",
    "sample_text = \"抱歉，没有查到相关信息呢。不过不管是不是第一批，来参观就有新发现，好好享受科技馆之旅吧！\"\n",
    "pred_label = predict_sentiment(sample_text)\n",
    "print(f\"预测动作标签：{pred_label}\")\n",
    "id2label[pred_label]"
   ]
  },
  {
   "cell_type": "code",
   "execution_count": null,
   "id": "39434b2d-42d8-40a5-a44a-89f71a5484a5",
   "metadata": {},
   "outputs": [],
   "source": []
  }
 ],
 "metadata": {
  "kernelspec": {
   "display_name": "Python 3 (ipykernel)",
   "language": "python",
   "name": "python3"
  },
  "language_info": {
   "codemirror_mode": {
    "name": "ipython",
    "version": 3
   },
   "file_extension": ".py",
   "mimetype": "text/x-python",
   "name": "python",
   "nbconvert_exporter": "python",
   "pygments_lexer": "ipython3",
   "version": "3.12.3"
  }
 },
 "nbformat": 4,
 "nbformat_minor": 5
}
